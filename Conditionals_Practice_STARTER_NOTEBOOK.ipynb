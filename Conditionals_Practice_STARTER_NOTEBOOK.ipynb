{
  "nbformat": 4,
  "nbformat_minor": 0,
  "metadata": {
    "colab": {
      "provenance": [],
      "include_colab_link": true
    },
    "kernelspec": {
      "name": "python3",
      "display_name": "Python 3"
    },
    "language_info": {
      "name": "python"
    }
  },
  "cells": [
    {
      "cell_type": "markdown",
      "metadata": {
        "id": "view-in-github",
        "colab_type": "text"
      },
      "source": [
        "<a href=\"https://colab.research.google.com/github/SamarBaghdadi/CodingDojo_DS_V23/blob/new-main-branch/Conditionals_Practice_STARTER_NOTEBOOK.ipynb\" target=\"_parent\"><img src=\"https://colab.research.google.com/assets/colab-badge.svg\" alt=\"Open In Colab\"/></a>"
      ]
    },
    {
      "cell_type": "markdown",
      "source": [
        "# Conditionals in Python\n"
      ],
      "metadata": {
        "id": "0ThdumLVMoVH"
      }
    },
    {
      "cell_type": "markdown",
      "source": [
        "\n",
        "|   Syntax  | Behavior                                                             |                   Example 1            |Example 2|\n",
        "|-----|--------------------------------------------------------------------------------------------|-------------------------------|------------------------------|\n",
        "| ==  | Checks if the value of two operands are equal                                              | `1 == 1` (True)                 | `1 == 2`  (False)              |\n",
        "| !=  | Checks if the value of two operands are not equal                                          | `1 != 1` (False)                | `1 != 2`  (True)               |\n",
        "| >   | Checks if the value of left operand is greater than the value of right operand             | `2 > 1` (True)                  | `1 > 2` (False)                |\n",
        "| <   | Checks if the value of left operand is less than the value of right operand                | `2 < 1 `(False)                 | `1 < 2` (True)                 |\n",
        "| >=  | Checks if the value of left operand is greater than or equal to the value of right operand | `2 >= 2` (True)                 | `1 >= 2` (False)               |\n",
        "| <=  | Checks if the value of left operand is less than or equal to the value of right operand    | `2 <= 2` (True)                 | `1 <= 2` (True)                |\n",
        "| & | Checks that each expression on the left and right are **both** areTrue                            | `(1 <= 2) & (2 >= 3)` (False) | `(1 <= 2) & (2 <= 3)` (True) |\n",
        "| \\|  | Checks if **either** the expression on the left or right is True                               | `(1 >= 2) | (2 >= 3)` (False)  | `(1 <= 2) | (2 >= 3)` (True)  |\n",
        "| ~ | Reverses the true-false value of the operand                                               | `~ False` (True)              | `~ True` (False)             |\n",
        "\n",
        "\n"
      ],
      "metadata": {
        "id": "1V__E87vk1AY"
      }
    },
    {
      "cell_type": "markdown",
      "source": [
        "# `if` Statements\n",
        "\n",
        "`if`, `else`, and `elif` have 2 parts.  The condition and the action.\n",
        "\n",
        "The condition part comes first and is followed by a `:`\n",
        "\n",
        "\n",
        "For example:\n",
        "`if name == 'Jane Doe':`\n",
        "\n",
        "The action comes next and is indented.\n",
        "\n",
        "For example:\n",
        "\n"
      ],
      "metadata": {
        "id": "VRnZ_3jvQS6v"
      }
    },
    {
      "cell_type": "code",
      "source": [
        "name = 'Jane Doe'\n",
        "\n",
        "if name == 'Jane Doe': # Notice the double == is for comparison\n",
        "\n",
        "  print('Hello, Jane!')"
      ],
      "metadata": {
        "id": "2_ILT24eSegP",
        "outputId": "c90f90a8-2efa-4c95-b17c-c565178531e9",
        "colab": {
          "base_uri": "https://localhost:8080/"
        }
      },
      "execution_count": 1,
      "outputs": [
        {
          "output_type": "stream",
          "name": "stdout",
          "text": [
            "Hello, Jane!\n"
          ]
        }
      ]
    },
    {
      "cell_type": "markdown",
      "source": [
        "## 💪 Your Turn\n",
        "\n",
        "Use an `if` statement to write code that returns 'Welcome back again!' if `number_of_visits` is greater than 1.\n",
        "\n",
        "When you are done, change the value of `number_of_visits` to make sure your code is working correctly."
      ],
      "metadata": {
        "id": "FOF3PbBPRhlA"
      }
    },
    {
      "cell_type": "code",
      "execution_count": 3,
      "metadata": {
        "id": "59msXkFYMayq",
        "outputId": "6dfa7b8c-865a-415d-898e-d2ec08ec466a",
        "colab": {
          "base_uri": "https://localhost:8080/"
        }
      },
      "outputs": [
        {
          "output_type": "stream",
          "name": "stdout",
          "text": [
            "Welcome back again!\n"
          ]
        }
      ],
      "source": [
        "number_of_visits = 2\n",
        "# Your code here\n",
        "if number_of_visits>1:\n",
        "  print(\"Welcome back again!\")"
      ]
    },
    {
      "cell_type": "markdown",
      "source": [
        "# `else` Statements\n",
        "\n",
        "You can combine `else` with your `if` to have an alternate action trigger if the `if` statement evaluates to `False`.  \n",
        "\n",
        "Try changing the value of `temperature` below to see how it changes the output of the code.\n",
        "\n",
        "Notice that we use double quotes around \"Don't forget a jacket!\" because we have an apostrophe (single quote) in Don't.  "
      ],
      "metadata": {
        "id": "EcOPQl4USbT3"
      }
    },
    {
      "cell_type": "code",
      "source": [
        "temperature = 65\n",
        "\n",
        "if temperature > 60:\n",
        "  print('Enjoy the nice weather')\n",
        "else:\n",
        "  print(\"Don't forget a jacket!\")"
      ],
      "metadata": {
        "id": "wIep6opEUOjO",
        "outputId": "f9de139d-64e2-426c-8e2c-2bbd910b5cc9",
        "colab": {
          "base_uri": "https://localhost:8080/"
        }
      },
      "execution_count": 4,
      "outputs": [
        {
          "output_type": "stream",
          "name": "stdout",
          "text": [
            "Enjoy the nice weather\n"
          ]
        }
      ]
    },
    {
      "cell_type": "markdown",
      "source": [
        "## 💪 Your Turn\n",
        "\n",
        "Write code that:\n",
        "\n",
        "- Prints 'Don't forget an umbrella' if `raining == True`\n",
        "\n",
        "- and otherwise prints 'Enjoy the nice weather!'\n",
        "\n",
        "Try changing the value of `raining` to test your code\n",
        "\n",
        "Make sure to use double quotes around \"Don't forget an umbrella!\" because we have an apostrophe (single quote) in Don't.  "
      ],
      "metadata": {
        "id": "6TEmtYI7VFug"
      }
    },
    {
      "cell_type": "code",
      "source": [
        "raining = False\n",
        "\n",
        "# Your Code here\n",
        "if raining==True:\n",
        "  print(\"Don't forget an umbrella\")\n",
        "else:\n",
        "  print(\"Enjoy the nice weather!\")"
      ],
      "metadata": {
        "id": "kRsHCRhadpxm",
        "outputId": "4b92bff2-bc36-4c6c-cfc9-c26d7fc732f0",
        "colab": {
          "base_uri": "https://localhost:8080/"
        }
      },
      "execution_count": 7,
      "outputs": [
        {
          "output_type": "stream",
          "name": "stdout",
          "text": [
            "Enjoy the nice weather!\n"
          ]
        }
      ]
    },
    {
      "cell_type": "markdown",
      "source": [
        "# `elif` Statements\n",
        "\n",
        "`elif` is short for else-if.  This lets you have multiple mutually exclusive clauses in your conditional code.  This means only one of the blocks of code will run, unlike if you use multiple if statements.\n",
        "\n",
        "Notice that below, even if it's raining and cold, the code will only print \"Don't forget a jacket\".  \n",
        "\n",
        "- Try changing the values of `raining` and `temperature` to see how the output changes.\n",
        "\n",
        "- Try changing the `elif` statement to an `if` statement and see how the output changes."
      ],
      "metadata": {
        "id": "c_dr3QamUxvB"
      }
    },
    {
      "cell_type": "code",
      "source": [
        "raining = True\n",
        "temperature = 55\n",
        "\n",
        "if temperature < 60:\n",
        "  print(\"Don't forget a Jacket\")\n",
        "elif raining == True:\n",
        "  print(\"Don't forget an umbrella\")\n",
        "else:\n",
        "  print('Enjoy the beautiful weather!')"
      ],
      "metadata": {
        "id": "E4LNTiVxUpmu",
        "outputId": "05dc967b-0fae-4b3d-fb53-39befce127ae",
        "colab": {
          "base_uri": "https://localhost:8080/"
        }
      },
      "execution_count": 11,
      "outputs": [
        {
          "output_type": "stream",
          "name": "stdout",
          "text": [
            "Don't forget a Jacket\n"
          ]
        }
      ]
    },
    {
      "cell_type": "markdown",
      "source": [
        "## 💪 Your Turn\n",
        "\n",
        "Write a block of code that uses `elif` to:\n",
        "\n",
        "- prints 'It was a dark and stormy night' if `weather == 'stormy'`\n",
        "- or else if moon = 'full', it prints 'It was a bright night'\n",
        "- of if neither of those are true, prints 'It was a dark night'\n",
        "\n",
        "\n",
        "*Try changing the values for `weather` and `moon` to be certain your code is working as expected.*"
      ],
      "metadata": {
        "id": "UVZjBTcbgGsu"
      }
    },
    {
      "cell_type": "code",
      "source": [
        "weather = 'stormy'\n",
        "moon = 'full'\n",
        "\n",
        "# Your Code Here\n",
        "if weather==\"stormy\":\n",
        "  print(\"It was a dark and stormy night\")\n",
        "elif moon==\"full\":\n",
        "  print(\"It was a bright night\")\n",
        "else:\n",
        "  print(\"It was a dark night\")"
      ],
      "metadata": {
        "id": "meMRswurfghm",
        "outputId": "37ce6c4f-882e-40f8-c7ad-c8ea66260c2a",
        "colab": {
          "base_uri": "https://localhost:8080/"
        }
      },
      "execution_count": 14,
      "outputs": [
        {
          "output_type": "stream",
          "name": "stdout",
          "text": [
            "It was a dark night\n"
          ]
        }
      ]
    },
    {
      "cell_type": "markdown",
      "source": [
        "# Nested Conditional Statements\n",
        "\n",
        "In order to test multiple conditions, we can put conditional statements inside other conditionals.  This is called 'nesting' and is a common way to create more complex behavior in code that depends on many conditions.\n",
        "\n",
        "In order to control the behavior, make careful use of indentation.  Any statements indented under another statement will only trigger if the statement above them evaluates to `True`.  Any `else` statements need to match the same indentation as the `if` statements they belong to.\n",
        "\n",
        "The below code will:\n",
        "\n",
        "Check if the `time == 'night'` and if so will check if `temperature <= 60` and if that also evaluates as `True`, then it will print \"It's cold and dark outside.\"."
      ],
      "metadata": {
        "id": "EnPdxsuvkKF2"
      }
    },
    {
      "cell_type": "code",
      "source": [
        "temperature = 55\n",
        "time = 'night'\n",
        "\n",
        "\n",
        "if time == 'night':\n",
        "  if temperature < 60:\n",
        "    print(\"It's cold and dark outside.\")"
      ],
      "metadata": {
        "colab": {
          "base_uri": "https://localhost:8080/"
        },
        "id": "xdEmVk-zklTl",
        "outputId": "8ecd622b-8759-486d-be9b-0d5017a72b29"
      },
      "execution_count": 15,
      "outputs": [
        {
          "output_type": "stream",
          "name": "stdout",
          "text": [
            "It's cold and dark outside.\n"
          ]
        }
      ]
    },
    {
      "cell_type": "markdown",
      "source": [
        "We can make the behavior even more complex by adding `else` statements.  Remember that an `else` statement's indentation must match the `if` statement it refers to.  \n",
        "\n",
        "Try changing `time` and `weather` to see how the behavior of the code changes.  Try to match up the `if` and `else` statements in the code to understand why."
      ],
      "metadata": {
        "id": "0hQJV0FQoYNs"
      }
    },
    {
      "cell_type": "code",
      "source": [
        "time = 'c'\n",
        "weather = 'stormy'\n",
        "\n",
        "\n",
        "if time == 'night':\n",
        "\n",
        "  if weather == 'stormy':\n",
        "    print(\"Its a stormy night. You'll want a flashlight and umbrella.\")\n",
        "\n",
        "  else:\n",
        "    print(\"It's a beautiful night. You'll want your flashlight.\")\n",
        "\n",
        "\n",
        "elif time == 'day':\n",
        "\n",
        "  if weather == 'stormy':\n",
        "    print(\"Its a stormy day. You'll want your umbrella.\")\n",
        "\n",
        "  else:\n",
        "    print(\"Its a nice & sunnay day. You'll want sunglasses and sunscreen.\")\n",
        "\n",
        "else:\n",
        "  print('I can only provide recommendations during the day or at night.')"
      ],
      "metadata": {
        "colab": {
          "base_uri": "https://localhost:8080/"
        },
        "id": "TLmWhAXhl8jm",
        "outputId": "1cddccb2-b9b2-46fb-8cc1-957fa3bcfe5e"
      },
      "execution_count": 17,
      "outputs": [
        {
          "output_type": "stream",
          "name": "stdout",
          "text": [
            "I can only provide recommendations during the day or at night.\n"
          ]
        }
      ]
    },
    {
      "cell_type": "markdown",
      "source": [
        "## 💪 Your Turn\n",
        "\n",
        "Create a block of code with nested conditions to produce one of 4 outcomes:\n",
        "\n",
        "- It is cold and rainy.\n",
        "\n",
        "- It is cold and sunny.\n",
        "\n",
        "- It is warm and rainy.\n",
        "\n",
        "- It is warm and sunny.\n",
        "\n",
        "Your code should output descriptions of a day that is:\n",
        "* warmer or cooler than 60 (fahrenheit, which is about 15.5 celsius)\n",
        "* rainy or sunny\n",
        "\n"
      ],
      "metadata": {
        "id": "ODT7qWj8ohX5"
      }
    },
    {
      "cell_type": "code",
      "source": [
        "temperature = 55\n",
        "weather = 'sunny'\n",
        "\n",
        "if temperature <60:\n",
        "  if weather==\"rainy\":\n",
        "    print(\"It is cold and rainy\")\n",
        "  elif weather==\"sunny\":\n",
        "    print(\"It's cold and sunny\")\n",
        "  else:\n",
        "    print(\"I can only provide recommandation on cold temperature and rainy/sunny weather\")\n",
        "elif temperature>=60:\n",
        "  if weather==\"rainy\":\n",
        "    print(\"it is warm and rainy\")\n",
        "  elif weather==\"sunny\":\n",
        "    print(\"It is warm and sunny\")\n",
        "  else:\n",
        "    print(\"I can only provide recommandation on warm temperature and rainy/sunny weather\")\n",
        "else:\n",
        "  print(\"I don't understand your entries, please try again\")\n",
        "# Your Code Here"
      ],
      "metadata": {
        "id": "vQghSCtCoLWH",
        "outputId": "77ce83f8-954c-4d0b-8d5d-bb1e3947dcca",
        "colab": {
          "base_uri": "https://localhost:8080/"
        }
      },
      "execution_count": 23,
      "outputs": [
        {
          "output_type": "stream",
          "name": "stdout",
          "text": [
            "I can only provide recommandation on cold temperature and rainy/sunny weather\n"
          ]
        }
      ]
    },
    {
      "cell_type": "markdown",
      "source": [
        "# and (`&`)/ or (`|`)\n",
        "\n"
      ],
      "metadata": {
        "id": "EXAItuEupmxA"
      }
    },
    {
      "cell_type": "markdown",
      "source": [
        "You can combine or alter conditions using the `&` and `|` operators.\n",
        "\n",
        "## and (&)\n",
        "* A conditional statement with an `&` between two other conditional statements ONLY returns `True` if **BOTH** conditions are`True`.  \n",
        "\n",
        "\n",
        "Run the code below to see an example."
      ],
      "metadata": {
        "id": "xQqOd0NsdKA0"
      }
    },
    {
      "cell_type": "markdown",
      "source": [
        "Try changing the value of `a` below to see how the resulting output changes."
      ],
      "metadata": {
        "id": "JKsIAoX9e6aO"
      }
    },
    {
      "cell_type": "code",
      "source": [
        "# Declare a\n",
        "a = 35\n",
        "\n",
        "# Test if a is more than 2 and less than 5\n",
        "if (a > 2) & (a < 5):\n",
        "  print('a is between 2 and 5')\n",
        "else:\n",
        "  print('a is not between 2 and 5')"
      ],
      "metadata": {
        "colab": {
          "base_uri": "https://localhost:8080/"
        },
        "id": "df16hDdZedJc",
        "outputId": "aeba090f-52b7-4e3f-de05-50583fc7c182"
      },
      "execution_count": 25,
      "outputs": [
        {
          "output_type": "stream",
          "name": "stdout",
          "text": [
            "a is not between 2 and 5\n"
          ]
        }
      ]
    },
    {
      "cell_type": "markdown",
      "source": [
        "## 💪 Your Turn\n",
        "\n",
        "Write a block of code that tests whether a `c` is greater than 100 and less than 1000.\n",
        "\n",
        "Try changing the value of `c` to be\n",
        "* 50 (to test a value less than 100),\n",
        "* 1001 (to test a value greater than 1000)\n",
        "\n",
        "to ensure your code is working correctly."
      ],
      "metadata": {
        "id": "eMpA1Td6ginU"
      }
    },
    {
      "cell_type": "code",
      "source": [
        "c = 9\n",
        "if c<100:\n",
        "  print(f\"{c} is under 100\")\n",
        "elif c<1000:\n",
        "  print(f\"{c} is under 1000\")\n",
        "else:\n",
        "  print(f\"{c} is uber 1000\")\n",
        "\n",
        "# your code here"
      ],
      "metadata": {
        "id": "vaAKdD2gpJzH",
        "outputId": "39d0c568-e881-4bcc-c681-ca6bef8eafbd",
        "colab": {
          "base_uri": "https://localhost:8080/"
        }
      },
      "execution_count": 29,
      "outputs": [
        {
          "output_type": "stream",
          "name": "stdout",
          "text": [
            "9 is under 100\n"
          ]
        }
      ]
    },
    {
      "cell_type": "markdown",
      "source": [
        "\n",
        "## or (`|`)\n",
        "* A conditional statement with an `|` between two other conditional statements returns `True` if **EITHER** of the conditions are `True`.  It only returns `False` if both conditions are 'False'\n"
      ],
      "metadata": {
        "id": "1NXOOxETeLet"
      }
    },
    {
      "cell_type": "markdown",
      "source": [
        "Try changing the value of `b` to see how the output changes."
      ],
      "metadata": {
        "id": "m_bVRS2xfRDj"
      }
    },
    {
      "cell_type": "code",
      "source": [
        "# Declare b\n",
        "b = 7\n",
        "\n",
        "# Test if be is less than or equal to 2 or more than or equal to 5\n",
        "if (b <= 2) | (b >= 5):\n",
        "  print('b is not between 2 and 5')\n",
        "else:\n",
        "  print('be is between 2 and 5')"
      ],
      "metadata": {
        "colab": {
          "base_uri": "https://localhost:8080/"
        },
        "id": "J6vwTd0wfRfE",
        "outputId": "b5b5acdb-f114-411c-b12c-a3343ce175c4"
      },
      "execution_count": 30,
      "outputs": [
        {
          "output_type": "stream",
          "name": "stdout",
          "text": [
            "b is not between 2 and 5\n"
          ]
        }
      ]
    },
    {
      "cell_type": "markdown",
      "source": [
        "## 💪 Your Turn\n",
        "\n",
        "Write a block of code that tests whether `d` is greater than 1000 or exactly equal to 100.\n",
        "\n",
        "Try changing the value of `d` to be\n",
        "* 100 (to test the d equals 100)\n",
        "* 5000 (to test d greater than 1000)\n",
        "\n",
        "to ensure your code is working correctly."
      ],
      "metadata": {
        "id": "5URjXuyQptx-"
      }
    },
    {
      "cell_type": "code",
      "source": [
        "d = 5000\n",
        "\n",
        "# your code here\n",
        "if (d>1000)|(d==100):\n",
        "  print(\"d is greater than 1000 or equal to 100\")\n",
        "else:\n",
        "  print(\"d is neither greater than 1000 nor equal to 100\")"
      ],
      "metadata": {
        "id": "Gwf4rG8k7Wj2",
        "outputId": "34cffaab-0703-43f1-de41-d093fab77cf3",
        "colab": {
          "base_uri": "https://localhost:8080/"
        }
      },
      "execution_count": 33,
      "outputs": [
        {
          "output_type": "stream",
          "name": "stdout",
          "text": [
            "d is greater than 1000 or equal to 100\n"
          ]
        }
      ]
    },
    {
      "cell_type": "markdown",
      "source": [
        "# Summary\n",
        "\n",
        "Condtional statements using a variety of conditional operators will return `True` or `False` boolean objects.  Python programmers can use `if`, `elif` and `else` to change the behavior of their code depending on the truth value of these conditional statements.  `and`/ `or`keywords can be used to modify and combine conditional statements to create even more complex behavior in code."
      ],
      "metadata": {
        "id": "OvlyO6L-q3Zw"
      }
    }
  ]
}