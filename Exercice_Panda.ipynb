{
  "nbformat": 4,
  "nbformat_minor": 0,
  "metadata": {
    "colab": {
      "provenance": [],
      "mount_file_id": "1lPGidkRg0JMZEQ4YZkD8kOHN8QtAkWn4",
      "authorship_tag": "ABX9TyN3NPegXwHbuzzcipXN0h39",
      "include_colab_link": true
    },
    "kernelspec": {
      "name": "python3",
      "display_name": "Python 3"
    },
    "language_info": {
      "name": "python"
    }
  },
  "cells": [
    {
      "cell_type": "markdown",
      "metadata": {
        "id": "view-in-github",
        "colab_type": "text"
      },
      "source": [
        "<a href=\"https://colab.research.google.com/github/SamarBaghdadi/CodingDojo_DS_V23/blob/new-main-branch/Exercice_Panda.ipynb\" target=\"_parent\"><img src=\"https://colab.research.google.com/assets/colab-badge.svg\" alt=\"Open In Colab\"/></a>"
      ]
    },
    {
      "cell_type": "code",
      "execution_count": 5,
      "metadata": {
        "colab": {
          "base_uri": "https://localhost:8080/"
        },
        "id": "LSud24k3o40o",
        "outputId": "ae7f9517-5872-4044-9f9d-8aee50ec5e44"
      },
      "outputs": [
        {
          "output_type": "stream",
          "name": "stdout",
          "text": [
            "<class 'pandas.core.frame.DataFrame'>\n",
            "RangeIndex: 12 entries, 0 to 11\n",
            "Data columns (total 9 columns):\n",
            " #   Column                 Non-Null Count  Dtype  \n",
            "---  ------                 --------------  -----  \n",
            " 0   Item                   12 non-null     object \n",
            " 1   Student                12 non-null     object \n",
            " 2   Packaging              12 non-null     object \n",
            " 3   Price                  12 non-null     float64\n",
            " 4   Expense                12 non-null     float64\n",
            " 5   Quantity Sold (Day 1)  12 non-null     int64  \n",
            " 6   Quantity Sold (Day 2)  12 non-null     int64  \n",
            " 7   Quantity Sold (Day 3)  12 non-null     int64  \n",
            " 8   Quantity Sold (Day 4)  12 non-null     int64  \n",
            "dtypes: float64(2), int64(4), object(3)\n",
            "memory usage: 992.0+ bytes\n",
            "<class 'pandas.core.frame.DataFrame'>\n",
            "RangeIndex: 12 entries, 0 to 11\n",
            "Data columns (total 9 columns):\n",
            " #   Column                 Non-Null Count  Dtype  \n",
            "---  ------                 --------------  -----  \n",
            " 0   Item                   12 non-null     object \n",
            " 1   Student                12 non-null     object \n",
            " 2   Packaging              12 non-null     object \n",
            " 3   Price                  12 non-null     float64\n",
            " 4   Expense                12 non-null     float64\n",
            " 5   Quantity Sold (Day 1)  12 non-null     int64  \n",
            " 6   Quantity Sold (Day 2)  12 non-null     int64  \n",
            " 7   Quantity Sold (Day 3)  12 non-null     int64  \n",
            " 8   Quantity Sold (Day 4)  12 non-null     int64  \n",
            "dtypes: float64(2), int64(4), object(3)\n",
            "memory usage: 992.0+ bytes\n"
          ]
        }
      ],
      "source": [
        "# import pandas\n",
        "import pandas as pd\n",
        "fname=\"/content/drive/MyDrive/CodingDojo/01-Fundamentals/Week02/Data/Our Bake Sale [Loading Data Vers] - Day 4 Sales.csv\"\n",
        "# load in the data as a pandas dataframe\n",
        "df = pd.read_csv(fname)\n",
        "# preview the first five rows\n",
        "df.head()\n",
        "\n",
        "# Preview the last 5 rows\n",
        "df.tail()\n",
        "\n",
        "# Obtain a summary table for each column\n",
        "df.info()\n",
        "\n",
        "# Save the url surround by quotes\n",
        "url = \"https://docs.google.com/spreadsheets/d/e/2PACX-1vQNX3oBeyee-rQEulninLyZoBUy3JVUy3wsGkPRl-G-mbjh5iItwBfezeGkDHnwtxnLneBX3Ylm1c64/pub?gid=860339357&single=true&output=csv\"\n",
        "# Read in data from url\n",
        "df_url = pd.read_csv(url)\n",
        "# Preview the first five rows\n",
        "df_url.head()\n",
        "# Preview the last 5 rows\n",
        "df_url.tail()\n",
        "# Inspect the .info()\n",
        "df_url.info()\n",
        "\n"
      ]
    }
  ]
}