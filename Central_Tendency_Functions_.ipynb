{
  "nbformat": 4,
  "nbformat_minor": 0,
  "metadata": {
    "colab": {
      "provenance": [],
      "authorship_tag": "ABX9TyNjfzhp3BA86mRbEg3Pya3m",
      "include_colab_link": true
    },
    "kernelspec": {
      "name": "python3",
      "display_name": "Python 3"
    },
    "language_info": {
      "name": "python"
    }
  },
  "cells": [
    {
      "cell_type": "markdown",
      "metadata": {
        "id": "view-in-github",
        "colab_type": "text"
      },
      "source": [
        "<a href=\"https://colab.research.google.com/github/SamarBaghdadi/CodingDojo_DS_V23/blob/new-main-branch/Central_Tendency_Functions_.ipynb\" target=\"_parent\"><img src=\"https://colab.research.google.com/assets/colab-badge.svg\" alt=\"Open In Colab\"/></a>"
      ]
    },
    {
      "cell_type": "code",
      "source": [
        "import numpy as np\n",
        "from statistics import mode"
      ],
      "metadata": {
        "id": "KqpkEyoqNzmB"
      },
      "execution_count": 3,
      "outputs": []
    },
    {
      "cell_type": "code",
      "execution_count": 9,
      "metadata": {
        "colab": {
          "base_uri": "https://localhost:8080/"
        },
        "id": "92pJ4xfsL0h3",
        "outputId": "3812b6b0-441d-4eec-becc-ce74a2a0f947"
      },
      "outputs": [
        {
          "output_type": "stream",
          "name": "stdout",
          "text": [
            "55.0\n"
          ]
        },
        {
          "output_type": "execute_result",
          "data": {
            "text/plain": [
              "55"
            ]
          },
          "metadata": {},
          "execution_count": 9
        }
      ],
      "source": [
        "# Run a code cell with the lists of temperature data:\n",
        "# Lists of Fahrenheit temps\n",
        "week_1 = [45, 55, 49, 60, 52, 55, 58]\n",
        "week_2 = [51, 49, 62, 50, 53, 56, 59]\n",
        "week_3 = [60, 60, 61, 62, 57, 59, 58]\n",
        "week_4 = [59, 63, 62, 61, 65, 66, 62]\n",
        "\n",
        "round(np.mean(week_1),2)\n",
        "print(round(np.median(week_1),2))\n",
        "round(mode(week_1),2)\n"
      ]
    },
    {
      "cell_type": "code",
      "source": [
        "def central_tendency(temp_list):\n",
        "  mean_temp=round(np.mean(temp_list),2)\n",
        "  median_temp=round(np.median(temp_list),2)\n",
        "  mode_temp=round(mode(temp_list),2)\n",
        "  return mean_temp, median_temp, mode_temp\n",
        "central_tendency(week_1)"
      ],
      "metadata": {
        "colab": {
          "base_uri": "https://localhost:8080/"
        },
        "id": "m--UPywAPRvt",
        "outputId": "92a9e987-aa19-4577-c525-5743d92c2616"
      },
      "execution_count": 18,
      "outputs": [
        {
          "output_type": "execute_result",
          "data": {
            "text/plain": [
              "(53.43, 55.0, 55)"
            ]
          },
          "metadata": {},
          "execution_count": 18
        }
      ]
    },
    {
      "cell_type": "code",
      "source": [
        "def central_tendency(temp_list,verbose=False):\n",
        "  mean_temp=round(np.mean(temp_list),2)\n",
        "  median_temp=round(np.median(temp_list),2)\n",
        "  mode_temp=round(mode(temp_list),2)\n",
        "  if(verbose==True):\n",
        "    print(f\"The mean is {mean_temp}.\\nThe median is {median_temp}.\\nThe mode is {mode_temp}.\")\n",
        "  return mean_temp, median_temp, mode_temp\n",
        "central_tendency(week_2,True)"
      ],
      "metadata": {
        "colab": {
          "base_uri": "https://localhost:8080/"
        },
        "id": "vDUjSypfQBsN",
        "outputId": "6af6531d-d44d-4525-ad65-81a210863c87"
      },
      "execution_count": 17,
      "outputs": [
        {
          "output_type": "stream",
          "name": "stdout",
          "text": [
            "The mean is 54.29.\n",
            "The median is 53.0.\n",
            "The mode is 51.\n"
          ]
        },
        {
          "output_type": "execute_result",
          "data": {
            "text/plain": [
              "(54.29, 53.0, 51)"
            ]
          },
          "metadata": {},
          "execution_count": 17
        }
      ]
    }
  ]
}