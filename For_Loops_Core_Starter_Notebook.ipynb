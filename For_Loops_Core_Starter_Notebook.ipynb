{
  "nbformat": 4,
  "nbformat_minor": 0,
  "metadata": {
    "colab": {
      "provenance": [],
      "include_colab_link": true
    },
    "kernelspec": {
      "name": "python3",
      "display_name": "Python 3"
    },
    "language_info": {
      "name": "python"
    }
  },
  "cells": [
    {
      "cell_type": "markdown",
      "metadata": {
        "id": "view-in-github",
        "colab_type": "text"
      },
      "source": [
        "<a href=\"https://colab.research.google.com/github/SamarBaghdadi/CodingDojo_DS_V23/blob/new-main-branch/For_Loops_Core_Starter_Notebook.ipynb\" target=\"_parent\"><img src=\"https://colab.research.google.com/assets/colab-badge.svg\" alt=\"Open In Colab\"/></a>"
      ]
    },
    {
      "cell_type": "markdown",
      "source": [
        "# Loops Exercise -  Core\n"
      ],
      "metadata": {
        "id": "GoCvWTFUOpms"
      }
    },
    {
      "cell_type": "markdown",
      "source": [
        "# Task 1: Loop through a list\n",
        "\n",
        "A company sells the following items at the given prices:\n",
        "\n",
        "Shirts 10.00\n",
        "\n",
        "Hats 15.00\n",
        "\n",
        "Buttons 4.00\n",
        "\n",
        "Stickers 1.00\n",
        "\n",
        "TO DO:\n",
        "\n",
        "A: Run the pre-coded cell to create a list of the products.\n",
        "\n",
        "B: Write a for-loop and use an f-string to print \"We sell PRODUCT here!\" for each product in the list.\n",
        "\n",
        "\n"
      ],
      "metadata": {
        "id": "rF_SiCDOQlU1"
      }
    },
    {
      "cell_type": "code",
      "source": [
        "# Create a list of products\n",
        "products = ['Shirts', 'Hats', 'Buttons', 'Stickers']"
      ],
      "metadata": {
        "id": "rvrFnQFoRWJC"
      },
      "execution_count": 1,
      "outputs": []
    },
    {
      "cell_type": "code",
      "source": [
        "# Write a for-loop to repeat the print statement for each product in the list.\n",
        "for product in products:\n",
        "  print(f\"We sell {product} here!\")"
      ],
      "metadata": {
        "id": "mGaE09aHR4lc",
        "outputId": "5639f221-eb3d-47be-dc29-177e94c5d1ef",
        "colab": {
          "base_uri": "https://localhost:8080/"
        }
      },
      "execution_count": 2,
      "outputs": [
        {
          "output_type": "stream",
          "name": "stdout",
          "text": [
            "We sell Shirts here!\n",
            "We sell Hats here!\n",
            "We sell Buttons here!\n",
            "We sell Stickers here!\n"
          ]
        }
      ]
    },
    {
      "cell_type": "markdown",
      "source": [
        "#Task 2: Use a loop to append values to a new list\n",
        "\n",
        "The products are going on a 20% off sale!  \n",
        "\n",
        "\n",
        "TO DO:\n",
        "\n",
        "A: Run the precoded cell to create the list of original\n",
        "B: Define an empty list called sale_prices\n",
        "\n",
        "C: Write a for-loop to append values to the sales_prices list that reflect the sale price (original price * 0.8)\n",
        "\n",
        "D: Print the new list of sales_prices"
      ],
      "metadata": {
        "id": "cXRXz0_eJeFF"
      }
    },
    {
      "cell_type": "code",
      "source": [
        "# Create a list of the prices.\n",
        "original_prices = [10, 15, 4, 1]"
      ],
      "metadata": {
        "id": "1w5ccy0JSbmf"
      },
      "execution_count": 3,
      "outputs": []
    },
    {
      "cell_type": "code",
      "source": [
        "# Create an empty list called sale_prices\n",
        "sale_prices=[]"
      ],
      "metadata": {
        "id": "O3TcQOEiSk9S"
      },
      "execution_count": 5,
      "outputs": []
    },
    {
      "cell_type": "code",
      "source": [
        "# Use a loop to append the sale_prices list with the sale price (a 20% discount means the original price is multiplied by .8)\n",
        "for price in original_prices:\n",
        "  sale_prices.append(price*0.8)\n",
        "sale_prices"
      ],
      "metadata": {
        "id": "VC4CMqr_S9Yw",
        "outputId": "3449a170-572f-4e3a-f5e2-2f15b02e90ce",
        "colab": {
          "base_uri": "https://localhost:8080/"
        }
      },
      "execution_count": 6,
      "outputs": [
        {
          "output_type": "execute_result",
          "data": {
            "text/plain": [
              "[8.0, 12.0, 3.2, 0.8]"
            ]
          },
          "metadata": {},
          "execution_count": 6
        }
      ]
    },
    {
      "cell_type": "code",
      "source": [
        "# Print the list of sale_prices"
      ],
      "metadata": {
        "id": "dGWiS6OBQZoB"
      },
      "execution_count": null,
      "outputs": []
    },
    {
      "cell_type": "markdown",
      "source": [
        "#Task 3: Loop through a dictionary\n",
        "\n",
        "TO DO:\n",
        "\n",
        "A: Run the pre-coded cell to create the prices_dict.\n",
        "\n",
        "B: Loop through the prices_dict and use an f-sting to print the statement: \"We sell PRODUCT!\"\n",
        "\n",
        "C: Loop through the prices_dict using prices_dict.items() to print the statement \"PRODUCT costs $PRICE each.\" for each product in the dictionary."
      ],
      "metadata": {
        "id": "5RhQT86XT9-v"
      }
    },
    {
      "cell_type": "code",
      "source": [
        "# Run this cell to create a dictionary with product and price\n",
        "prices_dict = {'Shirts': 10,\n",
        "              'Hats': 15,\n",
        "              'Buttons' : 4,\n",
        "              'Stickers' : 1}\n",
        "\n",
        "prices_dict"
      ],
      "metadata": {
        "id": "HxAD2FQYVjBE",
        "outputId": "ee695db6-976e-43a3-fb38-b3694497e968",
        "colab": {
          "base_uri": "https://localhost:8080/"
        }
      },
      "execution_count": 7,
      "outputs": [
        {
          "output_type": "execute_result",
          "data": {
            "text/plain": [
              "{'Shirts': 10, 'Hats': 15, 'Buttons': 4, 'Stickers': 1}"
            ]
          },
          "metadata": {},
          "execution_count": 7
        }
      ]
    },
    {
      "cell_type": "code",
      "source": [
        "# Loop through the dictionary to print: \"We sell __!\"\n",
        "for key in prices_dict:\n",
        "  print(f\"We sell {key}\")"
      ],
      "metadata": {
        "id": "NWLMQwSmWpGE",
        "outputId": "d987c9b6-b749-40fd-fb5e-525028bfa45f",
        "colab": {
          "base_uri": "https://localhost:8080/"
        }
      },
      "execution_count": 10,
      "outputs": [
        {
          "output_type": "stream",
          "name": "stdout",
          "text": [
            "We sell Shirts\n",
            "We sell Hats\n",
            "We sell Buttons\n",
            "We sell Stickers\n"
          ]
        }
      ]
    },
    {
      "cell_type": "code",
      "source": [
        "# Loop through the dictionary to print: \"__ cost $__ each\".\n",
        "for key in prices_dict:\n",
        "  print(f\"{key} costs ${prices_dict[key]}\")\n"
      ],
      "metadata": {
        "id": "NSZCca2oWvry",
        "outputId": "13d43bfb-10a0-4134-b7e7-7e0179ed70af",
        "colab": {
          "base_uri": "https://localhost:8080/"
        }
      },
      "execution_count": 14,
      "outputs": [
        {
          "output_type": "stream",
          "name": "stdout",
          "text": [
            "Shirts costs $10\n",
            "Hats costs $15\n",
            "Buttons costs $4\n",
            "Stickers costs $1\n"
          ]
        }
      ]
    },
    {
      "cell_type": "markdown",
      "source": [
        "#Task 4: Create a new dictionary by updating values using a for-loop\n",
        "\n",
        "We want to create a new dictionary that contains the product and the sale price called sale_dict.\n",
        "\n",
        "To create the prices_dict in the above task, we just provided the code cell with the necessary information. Rather than typing all of the info to make the sale dictionary, we will use a for-loop to calculate the sale price based on the original price.\n",
        "\n",
        "TO DO:\n",
        "\n",
        "A: Create an empty dictionary called sales_dict.\n",
        "\n",
        "B: Use a for-loop and prices_dict.items() to fill in the sales_dict.\n",
        "\n",
        "* Calculate the sale price (original price * 0.8).\n",
        "\n",
        "* Save the sale price in the sales_dict using the product name as the key.\n",
        "\n",
        "C: Print the sales_dict\n",
        "\n",
        "D: Loop through the sales_dict.items() to print \"PRODUCT are on sale for only SALE PRICE!'\n",
        "\n",
        "\n"
      ],
      "metadata": {
        "id": "V_WVu-S0IG3w"
      }
    },
    {
      "cell_type": "code",
      "source": [
        "# Use a loop to create a new dictionary with product and sales prices\n",
        "sales_dict={}\n",
        "for key in prices_dict:\n",
        "  sales_dict[key]=prices_dict[key]*0.8\n",
        "sales_dict"
      ],
      "metadata": {
        "id": "JvoYAQcySzM8",
        "outputId": "548014bd-57c8-49fc-a6cb-0ab82d76317a",
        "colab": {
          "base_uri": "https://localhost:8080/"
        }
      },
      "execution_count": 16,
      "outputs": [
        {
          "output_type": "execute_result",
          "data": {
            "text/plain": [
              "{'Shirts': 8.0, 'Hats': 12.0, 'Buttons': 3.2, 'Stickers': 0.8}"
            ]
          },
          "metadata": {},
          "execution_count": 16
        }
      ]
    },
    {
      "cell_type": "code",
      "source": [
        "# Print the sales_dict\n",
        "print(sales_dict)"
      ],
      "metadata": {
        "id": "mTRik7dGl52i",
        "outputId": "f723d912-3d29-43b5-d228-a0f22cbebf34",
        "colab": {
          "base_uri": "https://localhost:8080/"
        }
      },
      "execution_count": 17,
      "outputs": [
        {
          "output_type": "stream",
          "name": "stdout",
          "text": [
            "{'Shirts': 8.0, 'Hats': 12.0, 'Buttons': 3.2, 'Stickers': 0.8}\n"
          ]
        }
      ]
    },
    {
      "cell_type": "code",
      "source": [
        "# Loop throuh the sale_dict to print \"PRODUCT are on sale for only SALE PRICE!\" for each item.\n",
        "for key in sales_dict:\n",
        "  print(f\"{key} are on sale for only ${sales_dict[key]} \")"
      ],
      "metadata": {
        "id": "aYRJqGktNO_g",
        "outputId": "fe7be8b3-4d73-4706-972e-f7e756b9bee8",
        "colab": {
          "base_uri": "https://localhost:8080/"
        }
      },
      "execution_count": 19,
      "outputs": [
        {
          "output_type": "stream",
          "name": "stdout",
          "text": [
            "Shirts are on sale for only $8.0 \n",
            "Hats are on sale for only $12.0 \n",
            "Buttons are on sale for only $3.2 \n",
            "Stickers are on sale for only $0.8 \n"
          ]
        }
      ]
    }
  ]
}